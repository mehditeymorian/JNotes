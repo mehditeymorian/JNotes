{
 "cells": [
  {
   "cell_type": "code",
   "execution_count": 35,
   "metadata": {
    "collapsed": true
   },
   "outputs": [],
   "source": [
    "import torch\n",
    "import torch.nn as nn\n",
    "import torchvision\n",
    "import torchvision.transforms as transforms\n",
    "import matplotlib.pyplot as plt\n",
    "import random as rand"
   ]
  },
  {
   "cell_type": "code",
   "execution_count": 36,
   "outputs": [],
   "source": [
    "import sys\n",
    "from torch.utils.tensorboard import SummaryWriter\n",
    "\n",
    "writer = SummaryWriter('runs/mnist3')"
   ],
   "metadata": {
    "collapsed": false
   }
  },
  {
   "cell_type": "code",
   "execution_count": 37,
   "outputs": [],
   "source": [
    "device = torch.device('cuda' if torch.cuda.is_available() else 'cpu')\n",
    "\n",
    "input_size = 28 * 28\n",
    "hidden_size = 100\n",
    "num_classes = 10\n",
    "epochs = 2\n",
    "batch_size = 100\n",
    "learning_rate = 0.001"
   ],
   "metadata": {
    "collapsed": false
   }
  },
  {
   "cell_type": "code",
   "execution_count": 38,
   "outputs": [],
   "source": [
    "train_dataset = torchvision.datasets.MNIST(root='./data', train=True,\n",
    "                                           transform=transforms.ToTensor(), download=True)\n",
    "\n",
    "test_dataset = torchvision.datasets.MNIST(root='./data', train=False,\n",
    "                                          transform=transforms.ToTensor(),\n",
    "                                          download=True)\n",
    "\n",
    "train_loader = torch.utils.data.DataLoader(dataset=train_dataset, batch_size=batch_size, shuffle=True)\n",
    "\n",
    "test_loader = torch.utils.data.DataLoader(dataset=test_dataset, batch_size=batch_size, shuffle=True)"
   ],
   "metadata": {
    "collapsed": false
   }
  },
  {
   "cell_type": "code",
   "execution_count": 39,
   "outputs": [
    {
     "name": "stdout",
     "output_type": "stream",
     "text": [
      "torch.Size([100, 1, 28, 28]) torch.Size([100])\n"
     ]
    },
    {
     "data": {
      "text/plain": "<Figure size 640x480 with 6 Axes>",
      "image/png": "[encoded data removed]"
     },
     "metadata": {},
     "output_type": "display_data"
    }
   ],
   "source": [
    "examples = iter(train_loader)\n",
    "samples, labels = examples.__next__()\n",
    "print(samples.shape, labels.shape)\n",
    "\n",
    "for i in range(6):\n",
    "    plt.subplot(2, 3, i + 1)\n",
    "    plt.imshow(rand.choice(samples)[0], cmap='gray')\n",
    "\n",
    "plt.show()"
   ],
   "metadata": {
    "collapsed": false
   }
  },
  {
   "cell_type": "code",
   "execution_count": 40,
   "outputs": [],
   "source": [
    "img_grid = torchvision.utils.make_grid(samples)\n",
    "writer.add_image('mnist_images', img_grid)\n",
    "writer.close()"
   ],
   "metadata": {
    "collapsed": false
   }
  },
  {
   "cell_type": "code",
   "execution_count": 41,
   "outputs": [],
   "source": [
    "class Model(nn.Module):\n",
    "\n",
    "    def __init__(self, input_size, hidden_size, output_size):\n",
    "        super(Model, self).__init__()\n",
    "        self.linear1 = nn.Linear(input_size, hidden_size)\n",
    "        self.relu = nn.ReLU()\n",
    "        self.linear2 = nn.Linear(hidden_size, output_size)\n",
    "\n",
    "    def forward(self, x):\n",
    "        out = self.linear1(x)\n",
    "        out = self.relu(out)\n",
    "        out = self.linear2(out)\n",
    "\n",
    "        return out\n",
    "\n",
    "\n",
    "model = Model(input_size, hidden_size, num_classes)\n",
    "criterion = nn.CrossEntropyLoss()\n",
    "optimizer = torch.optim.Adam(model.parameters(), lr=learning_rate)\n"
   ],
   "metadata": {
    "collapsed": false
   }
  },
  {
   "cell_type": "code",
   "execution_count": 42,
   "outputs": [],
   "source": [
    "writer.add_graph(model, samples.reshape(-1, 28 * 28))\n",
    "writer.close()"
   ],
   "metadata": {
    "collapsed": false
   }
  },
  {
   "cell_type": "code",
   "execution_count": 43,
   "outputs": [
    {
     "name": "stdout",
     "output_type": "stream",
     "text": [
      "epoch:1/2, iter:59/600, loss:0.5817\n",
      "epoch:1/2, iter:119/600, loss:0.5085\n",
      "epoch:1/2, iter:179/600, loss:0.3656\n",
      "epoch:1/2, iter:239/600, loss:0.2866\n",
      "epoch:1/2, iter:299/600, loss:0.3234\n",
      "epoch:1/2, iter:359/600, loss:0.3069\n",
      "epoch:1/2, iter:419/600, loss:0.1868\n",
      "epoch:1/2, iter:479/600, loss:0.3101\n",
      "epoch:1/2, iter:539/600, loss:0.1792\n",
      "epoch:1/2, iter:599/600, loss:0.2637\n",
      "epoch:2/2, iter:59/600, loss:0.3187\n",
      "epoch:2/2, iter:119/600, loss:0.1953\n",
      "epoch:2/2, iter:179/600, loss:0.1463\n",
      "epoch:2/2, iter:239/600, loss:0.1499\n",
      "epoch:2/2, iter:299/600, loss:0.2382\n",
      "epoch:2/2, iter:359/600, loss:0.1552\n",
      "epoch:2/2, iter:419/600, loss:0.1297\n",
      "epoch:2/2, iter:479/600, loss:0.1470\n",
      "epoch:2/2, iter:539/600, loss:0.1900\n",
      "epoch:2/2, iter:599/600, loss:0.1327\n"
     ]
    }
   ],
   "source": [
    "total = len(train_loader)\n",
    "step = 0.1 * total\n",
    "\n",
    "for epoch in range(epochs):\n",
    "    running_loss = 0.0\n",
    "    running_correct = 0\n",
    "    for i, (images, labels) in enumerate(train_loader):\n",
    "        images = images.reshape(-1, 28 * 28).to(device)\n",
    "        labels = labels.to(device)\n",
    "\n",
    "        pred = model(images)\n",
    "\n",
    "        loss = criterion(pred, labels)\n",
    "\n",
    "        optimizer.zero_grad()\n",
    "\n",
    "        loss.backward()\n",
    "\n",
    "        optimizer.step()\n",
    "\n",
    "        running_loss += loss.item()\n",
    "        _, predictions = torch.max(pred, 1)\n",
    "        running_correct += (predictions == labels).sum().item()\n",
    "\n",
    "        if (i + 1) % step == 0:\n",
    "            print(f\"epoch:{epoch + 1}/{epochs}, iter:{i}/{total}, loss:{loss.item():.4f}\")\n",
    "            writer.add_scalar('training loss', running_loss / 100, epoch * total + i)\n",
    "            writer.add_scalar('accuracy', running_correct / 100, epoch * total + i)\n",
    "            running_loss = 0.0\n",
    "            running_correct = 0"
   ],
   "metadata": {
    "collapsed": false
   }
  },
  {
   "cell_type": "code",
   "execution_count": 44,
   "outputs": [
    {
     "name": "stdout",
     "output_type": "stream",
     "text": [
      "accuracy = 95.43\n"
     ]
    }
   ],
   "source": [
    "# test\n",
    "\n",
    "with torch.no_grad():\n",
    "    n_correct = 0\n",
    "    n_samples = 0\n",
    "    for images, labels in test_loader:\n",
    "        images = images.reshape(-1, 28 * 28).to(device)\n",
    "        labels = labels.to(device)\n",
    "        outputs = model(images)\n",
    "\n",
    "        _, predictions = torch.max(outputs, 1)\n",
    "\n",
    "        n_samples += labels.shape[0]\n",
    "        n_correct += (predictions == labels).sum().item()\n",
    "\n",
    "    acc = 100 * n_correct / n_samples\n",
    "    print(f\"accuracy = {acc}\")\n"
   ],
   "metadata": {
    "collapsed": false
   }
  }
 ],
 "metadata": {
  "kernelspec": {
   "display_name": "Python 3",
   "language": "python",
   "name": "python3"
  },
  "language_info": {
   "codemirror_mode": {
    "name": "ipython",
    "version": 2
   },
   "file_extension": ".py",
   "mimetype": "text/x-python",
   "name": "python",
   "nbconvert_exporter": "python",
   "pygments_lexer": "ipython2",
   "version": "2.7.6"
  }
 },
 "nbformat": 4,
 "nbformat_minor": 0
}
