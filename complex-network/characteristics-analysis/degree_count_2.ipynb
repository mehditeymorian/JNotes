{
 "cells": [
  {
   "cell_type": "code",
   "execution_count": 5,
   "metadata": {
    "collapsed": true
   },
   "outputs": [],
   "source": [
    "import networkx as nx\n",
    "import matplotlib.pyplot as plt\n",
    "import math\n",
    "from math import e, pi"
   ]
  },
  {
   "cell_type": "code",
   "execution_count": 28,
   "outputs": [],
   "source": [
    "# degree distribution\n",
    "def calculate_pk(nk, n):\n",
    "    return nk / n\n",
    "\n",
    "\n",
    "def approximate_factor(n):\n",
    "    result = math.sqrt(2 * pi * n) * math.pow(n / e, n)\n",
    "    if result < 1:\n",
    "        return 1\n",
    "    return int(result)\n",
    "\n",
    "\n",
    "def create_empty_map(n):\n",
    "    map = {}\n",
    "    for i in range(n):\n",
    "        map[i] = 0\n",
    "    return map\n",
    "\n",
    "\n",
    "def cumulate_degrees(map, degrees):\n",
    "    for each in degrees: # (node-index,degree)\n",
    "        map[each[1]] += 1\n",
    "\n",
    "def degree_probability(mean,k):\n",
    "    return math.exp(-mean)*math.pow(mean,k)/approximate_factor(k)"
   ],
   "metadata": {
    "collapsed": false,
    "pycharm": {
     "name": "#%%\n"
    }
   }
  },
  {
   "cell_type": "code",
   "execution_count": 7,
   "outputs": [
    {
     "data": {
      "text/plain": "<Figure size 432x288 with 1 Axes>",
      "image/png": "[encoded data removed]"
     },
     "metadata": {
      "needs_background": "light"
     },
     "output_type": "display_data"
    }
   ],
   "source": [
    "n = 100\n",
    "p = 0.1\n",
    "repeat = 100\n",
    "\n",
    "degrees = create_empty_map(n)\n",
    "\n",
    "for i in range(repeat):\n",
    "    graph = nx.fast_gnp_random_graph(n, p)\n",
    "    cumulate_degrees(degrees, graph.degree())\n",
    "\n",
    "# matplotlib histogram\n",
    "# seaborn histogram\n",
    "plt.bar(degrees.keys(), degrees.values())\n",
    "# Add labels\n",
    "plt.title('Histogram of Degrees')\n",
    "plt.xlabel('Degree')\n",
    "plt.ylabel('Count')\n",
    "plt.show()"
   ],
   "metadata": {
    "collapsed": false,
    "pycharm": {
     "name": "#%%\n"
    }
   }
  },
  {
   "cell_type": "code",
   "execution_count": 29,
   "outputs": [
    {
     "data": {
      "text/plain": "<Figure size 432x288 with 1 Axes>",
      "image/png": "[encoded data removed]"
     },
     "metadata": {
      "needs_background": "light"
     },
     "output_type": "display_data"
    }
   ],
   "source": [
    "mean = 10\n",
    "k_max = 100\n",
    "\n",
    "xs = []\n",
    "ys = []\n",
    "\n",
    "for k in range(k_max):\n",
    "    xs.append(k+1)\n",
    "    ys.append(degree_probability(mean,k+1))\n",
    "\n",
    "\n",
    "plt.figure()\n",
    "plt.plot(xs,ys)\n",
    "plt.show()"
   ],
   "metadata": {
    "collapsed": false,
    "pycharm": {
     "name": "#%%\n"
    }
   }
  },
  {
   "cell_type": "code",
   "execution_count": 24,
   "outputs": [
    {
     "data": {
      "text/plain": "1"
     },
     "execution_count": 24,
     "metadata": {},
     "output_type": "execute_result"
    }
   ],
   "source": [
    "approximate_factor(1)"
   ],
   "metadata": {
    "collapsed": false,
    "pycharm": {
     "name": "#%%\n"
    }
   }
  }
 ],
 "metadata": {
  "kernelspec": {
   "display_name": "Python 3",
   "language": "python",
   "name": "python3"
  },
  "language_info": {
   "codemirror_mode": {
    "name": "ipython",
    "version": 2
   },
   "file_extension": ".py",
   "mimetype": "text/x-python",
   "name": "python",
   "nbconvert_exporter": "python",
   "pygments_lexer": "ipython2",
   "version": "2.7.6"
  }
 },
 "nbformat": 4,
 "nbformat_minor": 0
}