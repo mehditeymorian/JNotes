{
 "cells": [
  {
   "cell_type": "code",
   "execution_count": 1,
   "metadata": {
    "collapsed": true
   },
   "outputs": [],
   "source": [
    "import networkx as nx\n",
    "import matplotlib.pyplot as plt\n",
    "import math"
   ]
  },
  {
   "cell_type": "code",
   "execution_count": 2,
   "outputs": [],
   "source": [
    "def calculate_p(n,m,p):\n",
    "    total = int(n*(n-1)/2)\n",
    "    combination = math.comb(total,m)\n",
    "    correct = math.pow(p,m)\n",
    "    wrong = math.pow(1-p,total-m)\n",
    "    return combination*correct*wrong\n",
    "\n",
    "def calculate_mu(n,p):\n",
    "    total = int(n*(n-1)/2)\n",
    "    return total*p\n",
    "\n",
    "def variance(n,p):\n",
    "    total = int(n*(n-1)/2)\n",
    "    return total*p*(1-p)"
   ],
   "metadata": {
    "collapsed": false,
    "pycharm": {
     "name": "#%%\n"
    }
   }
  },
  {
   "cell_type": "code",
   "execution_count": 3,
   "outputs": [
    {
     "data": {
      "text/plain": "<Figure size 432x288 with 1 Axes>",
      "image/png": "[encoded data removed]"
     },
     "metadata": {
      "needs_background": "light"
     },
     "output_type": "display_data"
    }
   ],
   "source": [
    "n = 10\n",
    "m = 3\n",
    "p = 0.4\n",
    "repeat = 1000\n",
    "\n",
    "sum=0\n",
    "\n",
    "xs = []\n",
    "\n",
    "# repeat experiment with respect to law of large numbers\n",
    "for i in range(repeat):\n",
    "    graph = nx.fast_gnp_random_graph(n,p)\n",
    "    l = len(nx.edges(graph))\n",
    "    sum += l\n",
    "    xs.append(sum/(i+1))\n",
    "\n",
    "# average degree for graph with size n and edge probability of p.\n",
    "mu = calculate_mu(n,p)\n",
    "avgX, avgY = [0, repeat], [mu,mu]\n",
    "\n",
    "# show result\n",
    "plt.plot(xs)\n",
    "plt.plot(avgX,avgY)\n",
    "plt.show()"
   ],
   "metadata": {
    "collapsed": false,
    "pycharm": {
     "name": "#%%\n"
    }
   }
  },
  {
   "cell_type": "code",
   "execution_count": 4,
   "outputs": [
    {
     "data": {
      "text/plain": "4.3703365825426714e-07"
     },
     "execution_count": 4,
     "metadata": {},
     "output_type": "execute_result"
    }
   ],
   "source": [
    "calculate_p(n,3,p)"
   ],
   "metadata": {
    "collapsed": false,
    "pycharm": {
     "name": "#%%\n"
    }
   }
  }
 ],
 "metadata": {
  "kernelspec": {
   "display_name": "Python 3",
   "language": "python",
   "name": "python3"
  },
  "language_info": {
   "codemirror_mode": {
    "name": "ipython",
    "version": 2
   },
   "file_extension": ".py",
   "mimetype": "text/x-python",
   "name": "python",
   "nbconvert_exporter": "python",
   "pygments_lexer": "ipython2",
   "version": "2.7.6"
  }
 },
 "nbformat": 4,
 "nbformat_minor": 0
}