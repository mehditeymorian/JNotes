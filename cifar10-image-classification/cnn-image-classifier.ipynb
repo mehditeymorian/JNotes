{
 "cells": [
  {
   "cell_type": "code",
   "execution_count": 16,
   "metadata": {
    "collapsed": true
   },
   "outputs": [],
   "source": [
    "import torch\n",
    "import torch.nn as nn\n",
    "import numpy as np\n",
    "import torch.nn.functional as f\n",
    "import torchvision\n",
    "import torchvision.transforms as transforms\n",
    "import matplotlib.pyplot as plt"
   ]
  },
  {
   "cell_type": "code",
   "execution_count": 22,
   "outputs": [],
   "source": [
    "device = 'cuda' if torch.cuda.is_available() else 'cpu'\n",
    "batch_size = 10\n",
    "epochs = 5\n",
    "learning_rate = 0.005"
   ],
   "metadata": {
    "collapsed": false
   }
  },
  {
   "cell_type": "code",
   "execution_count": 4,
   "outputs": [
    {
     "name": "stdout",
     "output_type": "stream",
     "text": [
      "Downloading https://www.cs.toronto.edu/~kriz/cifar-10-python.tar.gz to ./data/cifar-10-python.tar.gz\n"
     ]
    },
    {
     "data": {
      "text/plain": "  0%|          | 0/170498071 [00:00<?, ?it/s]",
      "application/vnd.jupyter.widget-view+json": {
       "version_major": 2,
       "version_minor": 0,
       "model_id": "e6140a30a5914f9f94fc67f41b2995db"
      }
     },
     "metadata": {},
     "output_type": "display_data"
    },
    {
     "name": "stdout",
     "output_type": "stream",
     "text": [
      "Extracting ./data/cifar-10-python.tar.gz to ./data\n",
      "Files already downloaded and verified\n"
     ]
    }
   ],
   "source": [
    "transform = transforms.Compose([\n",
    "    transforms.ToTensor(),\n",
    "    transforms.Normalize((0.5,0.5,0.5),(0.5,0.5,0.5))\n",
    "])\n",
    "\n",
    "\n",
    "train_dataset = torchvision.datasets.CIFAR10(root='./data', train=True, transform=transform, download=True)\n",
    "\n",
    "test_dataset = torchvision.datasets.CIFAR10(root='./data', train=True, transform=transform, download=True)\n",
    "\n",
    "\n",
    "train_loader = torch.utils.data.DataLoader(train_dataset, batch_size=batch_size, shuffle=True)\n",
    "\n",
    "test_loader = torch.utils.data.DataLoader(test_dataset, batch_size=batch_size, shuffle=True)"
   ],
   "metadata": {
    "collapsed": false
   }
  },
  {
   "cell_type": "code",
   "execution_count": 5,
   "outputs": [],
   "source": [
    "classes = ('plane', 'car', 'bird', 'cat', 'deer', 'dog', 'frog', 'horse', 'sheep', 'truck')"
   ],
   "metadata": {
    "collapsed": false
   }
  },
  {
   "cell_type": "code",
   "execution_count": 12,
   "outputs": [],
   "source": [
    "class ConvModel(nn.Module):\n",
    "\n",
    "    def __init__(self):\n",
    "        super(ConvModel, self).__init__()\n",
    "        self.conv1 = nn.Conv2d(3, 6 ,5)\n",
    "        self.pool = nn.MaxPool2d(2,2)\n",
    "        self.conv2 = nn.Conv2d(6, 16, 5)\n",
    "        self.fc1 = nn.Linear(16*5*5, 120)\n",
    "        self.fc2 = nn.Linear(120, 84)\n",
    "        self.fc3 = nn.Linear(84, 10)\n",
    "\n",
    "    def forward(self, x):\n",
    "        x = self.pool(f.relu(self.conv1(x)))\n",
    "        x = self.pool(f.relu(self.conv2(x)))\n",
    "        x = x.view(-1, 16*5*5)\n",
    "        x = f.relu(self.fc1(x))\n",
    "        x = f.relu(self.fc2(x))\n",
    "        x = self.fc3(x)\n",
    "        return x"
   ],
   "metadata": {
    "collapsed": false
   }
  },
  {
   "cell_type": "code",
   "execution_count": 14,
   "outputs": [],
   "source": [
    "model = ConvModel().to(device)\n",
    "\n",
    "criterion = nn.CrossEntropyLoss()\n",
    "optimizer = torch.optim.SGD(model.parameters(), lr=learning_rate)"
   ],
   "metadata": {
    "collapsed": false
   }
  },
  {
   "cell_type": "code",
   "execution_count": 23,
   "outputs": [
    {
     "name": "stdout",
     "output_type": "stream",
     "text": [
      "epoch:1/5, step:50/500, loss:2.2947\n",
      "epoch:1/5, step:100/500, loss:2.3004\n",
      "epoch:1/5, step:150/500, loss:2.2968\n",
      "epoch:1/5, step:200/500, loss:2.3030\n",
      "epoch:1/5, step:250/500, loss:2.3037\n",
      "epoch:1/5, step:300/500, loss:2.3019\n",
      "epoch:1/5, step:350/500, loss:2.2981\n",
      "epoch:1/5, step:400/500, loss:2.3001\n",
      "epoch:1/5, step:450/500, loss:2.3061\n",
      "epoch:1/5, step:500/500, loss:2.2970\n",
      "epoch:2/5, step:50/500, loss:2.3010\n",
      "epoch:2/5, step:100/500, loss:2.2932\n",
      "epoch:2/5, step:150/500, loss:2.2921\n",
      "epoch:2/5, step:200/500, loss:2.3003\n",
      "epoch:2/5, step:250/500, loss:2.2943\n",
      "epoch:2/5, step:300/500, loss:2.2977\n",
      "epoch:2/5, step:350/500, loss:2.3007\n",
      "epoch:2/5, step:400/500, loss:2.2961\n",
      "epoch:2/5, step:450/500, loss:2.3034\n",
      "epoch:2/5, step:500/500, loss:2.3008\n",
      "epoch:3/5, step:50/500, loss:2.3008\n",
      "epoch:3/5, step:100/500, loss:2.3096\n",
      "epoch:3/5, step:150/500, loss:2.3039\n",
      "epoch:3/5, step:200/500, loss:2.2976\n",
      "epoch:3/5, step:250/500, loss:2.3008\n",
      "epoch:3/5, step:300/500, loss:2.2957\n",
      "epoch:3/5, step:350/500, loss:2.3028\n",
      "epoch:3/5, step:400/500, loss:2.2980\n",
      "epoch:3/5, step:450/500, loss:2.2968\n",
      "epoch:3/5, step:500/500, loss:2.2973\n",
      "epoch:4/5, step:50/500, loss:2.2970\n",
      "epoch:4/5, step:100/500, loss:2.2914\n",
      "epoch:4/5, step:150/500, loss:2.3015\n",
      "epoch:4/5, step:200/500, loss:2.2992\n",
      "epoch:4/5, step:250/500, loss:2.2927\n",
      "epoch:4/5, step:300/500, loss:2.2946\n",
      "epoch:4/5, step:350/500, loss:2.3040\n",
      "epoch:4/5, step:400/500, loss:2.2953\n",
      "epoch:4/5, step:450/500, loss:2.3017\n",
      "epoch:4/5, step:500/500, loss:2.2891\n",
      "epoch:5/5, step:50/500, loss:2.2960\n",
      "epoch:5/5, step:100/500, loss:2.2955\n",
      "epoch:5/5, step:150/500, loss:2.2950\n",
      "epoch:5/5, step:200/500, loss:2.2952\n",
      "epoch:5/5, step:250/500, loss:2.2973\n",
      "epoch:5/5, step:300/500, loss:2.2954\n",
      "epoch:5/5, step:350/500, loss:2.2930\n",
      "epoch:5/5, step:400/500, loss:2.2905\n",
      "epoch:5/5, step:450/500, loss:2.3016\n",
      "epoch:5/5, step:500/500, loss:2.2952\n",
      "finish training\n"
     ]
    }
   ],
   "source": [
    "total_steps = len(train_loader)\n",
    "step = round(0.1 * total_steps)\n",
    "\n",
    "for epoch in range(epochs):\n",
    "\n",
    "    for i, (images, labels) in enumerate(train_loader):\n",
    "\n",
    "        images = images.to(device)\n",
    "        labels = labels.to(device)\n",
    "\n",
    "        prediction = model(images)\n",
    "\n",
    "        loss = criterion(prediction, labels)\n",
    "\n",
    "        optimizer.zero_grad()\n",
    "        loss.backward()\n",
    "        optimizer.step()\n",
    "\n",
    "        if (i+1) % step == 0:\n",
    "            print(f\"epoch:{epoch+1}/{epochs}, step:{i+1}/{total_steps}, loss:{loss.item():.4f}\")\n",
    "\n",
    "print(\"finish training\")"
   ],
   "metadata": {
    "collapsed": false
   }
  },
  {
   "cell_type": "code",
   "execution_count": 24,
   "outputs": [
    {
     "name": "stdout",
     "output_type": "stream",
     "text": [
      "accuracy = 13.328\n",
      " accuracy of plane: 14.112903225806452%\n",
      " accuracy of car: 96.84418145956607%\n",
      " accuracy of bird: 0.0%\n",
      " accuracy of cat: 24.46808510638298%\n",
      " accuracy of deer: 0.0%\n",
      " accuracy of dog: 0.0%\n",
      " accuracy of frog: 0.1949317738791423%\n",
      " accuracy of horse: 0.0%\n",
      " accuracy of sheep: 0.0%\n",
      " accuracy of truck: 0.0%\n"
     ]
    }
   ],
   "source": [
    "with torch.no_grad():\n",
    "    n_correct = 0\n",
    "    n_samples = 0\n",
    "    n_class_corrects = [0 for i in range(10)]\n",
    "    n_class_samples = [0 for i in range(10)]\n",
    "    for images, labels in test_loader:\n",
    "\n",
    "        images = images.to(device)\n",
    "        labels = labels.to(device)\n",
    "\n",
    "        outputs = model(images)\n",
    "\n",
    "        _, prediction = torch.max(outputs, 1)\n",
    "\n",
    "        n_samples += labels.size(0)\n",
    "        n_correct += (prediction == labels).sum().item()\n",
    "\n",
    "        for i in range(batch_size):\n",
    "            label = labels[i]\n",
    "            pred = prediction[i]\n",
    "            if label == pred:\n",
    "                n_class_corrects[label] += 1\n",
    "            n_class_samples[label] += 1\n",
    "\n",
    "    acc = 100.0 * n_correct / n_samples\n",
    "\n",
    "    print(f\"accuracy = {acc}\")\n",
    "\n",
    "    for i in range(10):\n",
    "        acc = 100.0 * n_class_corrects[i] / n_class_samples[i]\n",
    "        print(f\" accuracy of {classes[i]}: {acc}%\")\n",
    "\n",
    "\n"
   ],
   "metadata": {
    "collapsed": false
   }
  }
 ],
 "metadata": {
  "kernelspec": {
   "display_name": "Python 3",
   "language": "python",
   "name": "python3"
  },
  "language_info": {
   "codemirror_mode": {
    "name": "ipython",
    "version": 2
   },
   "file_extension": ".py",
   "mimetype": "text/x-python",
   "name": "python",
   "nbconvert_exporter": "python",
   "pygments_lexer": "ipython2",
   "version": "2.7.6"
  }
 },
 "nbformat": 4,
 "nbformat_minor": 0
}
