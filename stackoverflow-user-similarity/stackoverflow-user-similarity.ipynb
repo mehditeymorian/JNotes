{
 "cells": [
  {
   "cell_type": "markdown",
   "source": [
    "# Jaccord Similarity & Norm Similarity\n",
    "this notebook contains code to calculate jaccord and L1 L2 similarity for stackoverflow users based on their votes on different questions.\n",
    "\n",
    "# Data\n",
    "Dataset is a xml file consists of vote record. [Link to Dataset](https://archive.org/download/stackexchange/stackoverflow.com-Votes.7z)\n",
    "```xml\n",
    "<row Id=\"1\" PostId=\"1\" VoteTypeId=\"2\" CreationDate=\"2008-07-31T00:00:00.000\" />\n",
    "...\n",
    "<row Id=\"2342341\" PostId=\"234534652\" VoteTypeId=\"8\" CreationDate=\"2008-07-31T00:00:00.000\" />\n",
    "```\n",
    "\n",
    "# Clean Data\n",
    "dataset is a big chunk of data and cannot be loaded in memory at once. we can achieve this by using Linux pipeline and commands include cat, grep, perl at file level.\n",
    "In this script, we read content of file and pass it to grep command to select those record which has `UserId` attribute. Finally by using perl, we can use REGEX to extract groups of data from each line. at the end, we write the result to a text file.\n",
    "```bash\n",
    "cat votes.xml | grep \"UserId\" | perl -ne 'print \"$1 $2 $3 $4\\n\" if /Id=\"(\\d*)\"\\sPostId=\"(\\d*)\"\\sVoteTypeId=\"(\\d*)\"\\sUserId=\"(\\d*)\"/ ' >> result.txt\n",
    "```\n",
    "Dataset size shrunk to 390MB, approximately 1/53 of the initial size. Now the dataset look like this:\n",
    "```\n",
    "Id        PostId   VoteTypeId   UserId\n",
    "175053113 42879012 5 5304980\n",
    "175053135 44499101 5 656208\n",
    "175053143 82831 5 5418727\n",
    "175053158 30237702 5 2796523\n",
    "175053184 4277665 5 5446749\n",
    "...\n",
    "```"
   ],
   "metadata": {
    "collapsed": false
   }
  },
  {
   "cell_type": "code",
   "execution_count": 2,
   "metadata": {
    "collapsed": true
   },
   "outputs": [],
   "source": [
    "import pandas as pd\n",
    "import numpy as np"
   ]
  },
  {
   "cell_type": "code",
   "execution_count": 3,
   "metadata": {
    "pycharm": {
     "name": "#%%\n"
    }
   },
   "outputs": [],
   "source": [
    "# reading the data file and labeling each column\n",
    "data = pd.read_csv(filepath_or_buffer='data.txt', sep=' ', names=['voteId', 'postId', 'voteType', 'userId'])"
   ]
  },
  {
   "cell_type": "code",
   "execution_count": 4,
   "metadata": {
    "pycharm": {
     "name": "#%%\n"
    }
   },
   "outputs": [
    {
     "data": {
      "text/plain": "           len\nuserId        \n6309     37000\n432903   19704\n3475600  15479\n850848   14830\n1415724  14017",
      "text/html": "<div>\n<style scoped>\n    .dataframe tbody tr th:only-of-type {\n        vertical-align: middle;\n    }\n\n    .dataframe tbody tr th {\n        vertical-align: top;\n    }\n\n    .dataframe thead th {\n        text-align: right;\n    }\n</style>\n<table border=\"1\" class=\"dataframe\">\n  <thead>\n    <tr style=\"text-align: right;\">\n      <th></th>\n      <th>len</th>\n    </tr>\n    <tr>\n      <th>userId</th>\n      <th></th>\n    </tr>\n  </thead>\n  <tbody>\n    <tr>\n      <th>6309</th>\n      <td>37000</td>\n    </tr>\n    <tr>\n      <th>432903</th>\n      <td>19704</td>\n    </tr>\n    <tr>\n      <th>3475600</th>\n      <td>15479</td>\n    </tr>\n    <tr>\n      <th>850848</th>\n      <td>14830</td>\n    </tr>\n    <tr>\n      <th>1415724</th>\n      <td>14017</td>\n    </tr>\n  </tbody>\n</table>\n</div>"
     },
     "execution_count": 4,
     "metadata": {},
     "output_type": "execute_result"
    }
   ],
   "source": [
    "# group data by userId and sort them by their len descending.\n",
    "groups_by_userId = data.groupby('userId')\n",
    "users = groups_by_userId.userId.agg([len]).sort_values(by='len', ascending=False)\n",
    "# these are the top 5 users who vote more than others.\n",
    "users.head()"
   ]
  },
  {
   "cell_type": "code",
   "execution_count": 5,
   "metadata": {
    "pycharm": {
     "name": "#%%\n"
    }
   },
   "outputs": [],
   "source": [
    "# similarities are only calculated for top 5 users.\n",
    "ids = np.array([6309, 432903, 3475600, 850848, 1415724])\n",
    "# filter data base on top 5 users.\n",
    "filtered_data = data[data.userId.isin(ids)]\n",
    "\n",
    "# used to replace initial vote type with 1 0 and -1\n",
    "# 5 -> 1\n",
    "# 8 -> -1\n",
    "# nan -> 0\n",
    "def agg_func(x):\n",
    "    t = sum(x)\n",
    "    return +1 if t == 5 else -1 if t == 8 else 0\n",
    "\n",
    "\n",
    "# generate junction table of user and post with each cell holding user vote on that post.\n",
    "#           Post_j Post_j+1 ...\n",
    "# User_i    1      0\n",
    "# User_i+1  0      -1\n",
    "# User_i+2  -1      1\n",
    "table = pd.crosstab(filtered_data.postId, filtered_data.userId, values=filtered_data.voteType, aggfunc=agg_func)"
   ]
  },
  {
   "cell_type": "markdown",
   "source": [
    "# Jaccord Similarity\n",
    "The Jaccard index, also known as the Jaccard similarity coefficient, is a statistic used for gauging the similarity and diversity of sample sets.\n",
    "\n",
    "![Jaccord Similarity Formula](https://wikimedia.org/api/rest_v1/media/math/render/svg/eaef5aa86949f49e7dc6b9c8c3dd8b233332c9e7)"
   ],
   "metadata": {
    "collapsed": false
   }
  },
  {
   "cell_type": "code",
   "execution_count": 6,
   "metadata": {
    "pycharm": {
     "name": "#%%\n"
    }
   },
   "outputs": [],
   "source": [
    "def jaccord_similarity(x, y):\n",
    "    # calculate the n and U\n",
    "    n = np.nansum(np.transpose(x) * np.array(y))\n",
    "    u = np.nansum(x) + np.nansum(y) - n\n",
    "    # base on the formula\n",
    "    similarity = n / u\n",
    "    distance =  1 - similarity\n",
    "    return [similarity, distance]"
   ]
  },
  {
   "cell_type": "markdown",
   "source": [
    "# Cosine L norm Similarity\n",
    "Cosine similarity is a measure of similarity between two non-zero vectors of an inner product space. It is defined to equal the cosine of the angle between them, which is also the same as the inner product of the same vectors normalized to both have length 1. From the latter definition, it follows that the cosine similarity depends only on the angle between the two non-zero vectors, but not on their magnitudes.\n",
    "\n",
    "![Cosine Similarity](https://wikimedia.org/api/rest_v1/media/math/render/svg/0a4c9a778656537624a3303e646559a429868863)\n",
    "\n",
    "# L Normalization\n",
    "Another effective proxy for cosine distance can be obtained by {\\displaystyle L_{2}}L_{2} normalisation of the vectors, followed by the application of normal Euclidean distance. Using this technique each term in each vector is first divided by the magnitude of the vector, yielding a vector of unit length. Then, it is clear, the Euclidean distance over the end-points of any two vectors is a proper metric which gives the same ordering as the cosine distance for any comparison of vectors, and furthermore avoids the potentially expensive trigonometric operations required to yield a proper metric. Once the normalisation has occurred, the vector space can be used with the full range of techniques available to any Euclidean space, notably standard dimensionality reduction techniques. This normalised form distance is often used within many deep learning algorithms.\n",
    "\n",
    "![L Norm](https://wikimedia.org/api/rest_v1/media/math/render/svg/53a5615d02f7a03013e22bd4adf055cdbe4a303c)\n"
   ],
   "metadata": {
    "collapsed": false
   }
  },
  {
   "cell_type": "code",
   "execution_count": 7,
   "outputs": [],
   "source": [
    "# calculate the L norm for a vector\n",
    "def l_norm(l, x):\n",
    "    sum_numbers = 0\n",
    "    for i in x:\n",
    "        # for element not nan elements\n",
    "        if not pd.isna(i):\n",
    "            sum_numbers += i ** l\n",
    "    # based on the formula\n",
    "    return pow(sum_numbers, 1 / l)\n",
    "\n",
    "# calculate the cosine l norm similarity for 2 vectors of x and y\n",
    "def norm_similarity(l, x, y):\n",
    "    similarity = np.nansum(x * y) / (l_norm(l, x) * l_norm(l, y))\n",
    "    distance = 1.0 - similarity\n",
    "    return [similarity, distance]"
   ],
   "metadata": {
    "collapsed": false,
    "pycharm": {
     "name": "#%%\n"
    }
   }
  },
  {
   "cell_type": "code",
   "execution_count": 8,
   "metadata": {
    "pycharm": {
     "name": "#%%\n"
    }
   },
   "outputs": [],
   "source": [
    "# similarity of pairs\n",
    "jaccord_result = []\n",
    "l1norm_result = []\n",
    "l2norm_result = []\n",
    "\n",
    "# this loops generate pair for top 5 users\n",
    "for i in ids:\n",
    "    for j in ids:\n",
    "        if i != j:\n",
    "            first = table.get(i)\n",
    "            second = table.get(j)\n",
    "            # add jaccord similarity\n",
    "            jaccord = jaccord_similarity(first, second)\n",
    "            jaccord_result.append([f\"{i},{j}\", jaccord[0], jaccord[1]])\n",
    "            # add Cosine L1Norm similarity\n",
    "            l1norm = norm_similarity(1,first, second)\n",
    "            l1norm_result.append([f\"{i},{j}\", l1norm[0], l1norm[1]])\n",
    "            # add Cosine L2Norm similarity\n",
    "            l2norm = norm_similarity(2,first, second)\n",
    "            l2norm_result.append([f\"{i},{j}\", l2norm[0], l2norm[1]])\n"
   ]
  },
  {
   "cell_type": "markdown",
   "source": [
    "# Jaccord Similarity"
   ],
   "metadata": {
    "collapsed": false
   }
  },
  {
   "cell_type": "code",
   "execution_count": 9,
   "outputs": [
    {
     "data": {
      "text/plain": "               pair  similarity  distance\n0       6309,432903    0.005640  0.994360\n1      6309,3475600    0.000534  0.999466\n2       6309,850848    0.000696  0.999304\n3      6309,1415724    0.000039  0.999961\n4       432903,6309    0.005640  0.994360\n5    432903,3475600    0.003594  0.996406\n6     432903,850848    0.000551  0.999449\n7    432903,1415724    0.001425  0.998575\n8      3475600,6309    0.000534  0.999466\n9    3475600,432903    0.003594  0.996406\n10   3475600,850848    0.000000  1.000000\n11  3475600,1415724    0.000068  0.999932\n12      850848,6309    0.000696  0.999304\n13    850848,432903    0.000551  0.999449\n14   850848,3475600    0.000000  1.000000\n15   850848,1415724    0.000069  0.999931\n16     1415724,6309    0.000039  0.999961\n17   1415724,432903    0.001425  0.998575\n18  1415724,3475600    0.000068  0.999932\n19   1415724,850848    0.000069  0.999931",
      "text/html": "<div>\n<style scoped>\n    .dataframe tbody tr th:only-of-type {\n        vertical-align: middle;\n    }\n\n    .dataframe tbody tr th {\n        vertical-align: top;\n    }\n\n    .dataframe thead th {\n        text-align: right;\n    }\n</style>\n<table border=\"1\" class=\"dataframe\">\n  <thead>\n    <tr style=\"text-align: right;\">\n      <th></th>\n      <th>pair</th>\n      <th>similarity</th>\n      <th>distance</th>\n    </tr>\n  </thead>\n  <tbody>\n    <tr>\n      <th>0</th>\n      <td>6309,432903</td>\n      <td>0.005640</td>\n      <td>0.994360</td>\n    </tr>\n    <tr>\n      <th>1</th>\n      <td>6309,3475600</td>\n      <td>0.000534</td>\n      <td>0.999466</td>\n    </tr>\n    <tr>\n      <th>2</th>\n      <td>6309,850848</td>\n      <td>0.000696</td>\n      <td>0.999304</td>\n    </tr>\n    <tr>\n      <th>3</th>\n      <td>6309,1415724</td>\n      <td>0.000039</td>\n      <td>0.999961</td>\n    </tr>\n    <tr>\n      <th>4</th>\n      <td>432903,6309</td>\n      <td>0.005640</td>\n      <td>0.994360</td>\n    </tr>\n    <tr>\n      <th>5</th>\n      <td>432903,3475600</td>\n      <td>0.003594</td>\n      <td>0.996406</td>\n    </tr>\n    <tr>\n      <th>6</th>\n      <td>432903,850848</td>\n      <td>0.000551</td>\n      <td>0.999449</td>\n    </tr>\n    <tr>\n      <th>7</th>\n      <td>432903,1415724</td>\n      <td>0.001425</td>\n      <td>0.998575</td>\n    </tr>\n    <tr>\n      <th>8</th>\n      <td>3475600,6309</td>\n      <td>0.000534</td>\n      <td>0.999466</td>\n    </tr>\n    <tr>\n      <th>9</th>\n      <td>3475600,432903</td>\n      <td>0.003594</td>\n      <td>0.996406</td>\n    </tr>\n    <tr>\n      <th>10</th>\n      <td>3475600,850848</td>\n      <td>0.000000</td>\n      <td>1.000000</td>\n    </tr>\n    <tr>\n      <th>11</th>\n      <td>3475600,1415724</td>\n      <td>0.000068</td>\n      <td>0.999932</td>\n    </tr>\n    <tr>\n      <th>12</th>\n      <td>850848,6309</td>\n      <td>0.000696</td>\n      <td>0.999304</td>\n    </tr>\n    <tr>\n      <th>13</th>\n      <td>850848,432903</td>\n      <td>0.000551</td>\n      <td>0.999449</td>\n    </tr>\n    <tr>\n      <th>14</th>\n      <td>850848,3475600</td>\n      <td>0.000000</td>\n      <td>1.000000</td>\n    </tr>\n    <tr>\n      <th>15</th>\n      <td>850848,1415724</td>\n      <td>0.000069</td>\n      <td>0.999931</td>\n    </tr>\n    <tr>\n      <th>16</th>\n      <td>1415724,6309</td>\n      <td>0.000039</td>\n      <td>0.999961</td>\n    </tr>\n    <tr>\n      <th>17</th>\n      <td>1415724,432903</td>\n      <td>0.001425</td>\n      <td>0.998575</td>\n    </tr>\n    <tr>\n      <th>18</th>\n      <td>1415724,3475600</td>\n      <td>0.000068</td>\n      <td>0.999932</td>\n    </tr>\n    <tr>\n      <th>19</th>\n      <td>1415724,850848</td>\n      <td>0.000069</td>\n      <td>0.999931</td>\n    </tr>\n  </tbody>\n</table>\n</div>"
     },
     "execution_count": 9,
     "metadata": {},
     "output_type": "execute_result"
    }
   ],
   "source": [
    "pd.DataFrame(jaccord_result, columns=['pair', 'similarity', 'distance'])"
   ],
   "metadata": {
    "collapsed": false,
    "pycharm": {
     "name": "#%%\n"
    }
   }
  },
  {
   "cell_type": "markdown",
   "source": [
    "# Cosine L1 Norm Similarity"
   ],
   "metadata": {
    "collapsed": false
   }
  },
  {
   "cell_type": "code",
   "execution_count": 10,
   "outputs": [
    {
     "data": {
      "text/plain": "               pair    similarity  distance\n0       6309,432903  4.362324e-07       1.0\n1      6309,3475600  4.889454e-08       1.0\n2       6309,850848  6.581078e-08       1.0\n3      6309,1415724  3.856738e-09       1.0\n4       432903,6309  4.362324e-07       1.0\n5    432903,3475600  4.131172e-07       1.0\n6     432903,850848  6.521515e-08       1.0\n7    432903,1415724  1.737928e-07       1.0\n8      3475600,6309  4.889454e-08       1.0\n9    3475600,432903  4.131172e-07       1.0\n10   3475600,850848  0.000000e+00       1.0\n11  3475600,1415724  9.217901e-09       1.0\n12      850848,6309  6.581078e-08       1.0\n13    850848,432903  6.521515e-08       1.0\n14   850848,3475600  0.000000e+00       1.0\n15   850848,1415724  9.649931e-09       1.0\n16     1415724,6309  3.856738e-09       1.0\n17   1415724,432903  1.737928e-07       1.0\n18  1415724,3475600  9.217901e-09       1.0\n19   1415724,850848  9.649931e-09       1.0",
      "text/html": "<div>\n<style scoped>\n    .dataframe tbody tr th:only-of-type {\n        vertical-align: middle;\n    }\n\n    .dataframe tbody tr th {\n        vertical-align: top;\n    }\n\n    .dataframe thead th {\n        text-align: right;\n    }\n</style>\n<table border=\"1\" class=\"dataframe\">\n  <thead>\n    <tr style=\"text-align: right;\">\n      <th></th>\n      <th>pair</th>\n      <th>similarity</th>\n      <th>distance</th>\n    </tr>\n  </thead>\n  <tbody>\n    <tr>\n      <th>0</th>\n      <td>6309,432903</td>\n      <td>4.362324e-07</td>\n      <td>1.0</td>\n    </tr>\n    <tr>\n      <th>1</th>\n      <td>6309,3475600</td>\n      <td>4.889454e-08</td>\n      <td>1.0</td>\n    </tr>\n    <tr>\n      <th>2</th>\n      <td>6309,850848</td>\n      <td>6.581078e-08</td>\n      <td>1.0</td>\n    </tr>\n    <tr>\n      <th>3</th>\n      <td>6309,1415724</td>\n      <td>3.856738e-09</td>\n      <td>1.0</td>\n    </tr>\n    <tr>\n      <th>4</th>\n      <td>432903,6309</td>\n      <td>4.362324e-07</td>\n      <td>1.0</td>\n    </tr>\n    <tr>\n      <th>5</th>\n      <td>432903,3475600</td>\n      <td>4.131172e-07</td>\n      <td>1.0</td>\n    </tr>\n    <tr>\n      <th>6</th>\n      <td>432903,850848</td>\n      <td>6.521515e-08</td>\n      <td>1.0</td>\n    </tr>\n    <tr>\n      <th>7</th>\n      <td>432903,1415724</td>\n      <td>1.737928e-07</td>\n      <td>1.0</td>\n    </tr>\n    <tr>\n      <th>8</th>\n      <td>3475600,6309</td>\n      <td>4.889454e-08</td>\n      <td>1.0</td>\n    </tr>\n    <tr>\n      <th>9</th>\n      <td>3475600,432903</td>\n      <td>4.131172e-07</td>\n      <td>1.0</td>\n    </tr>\n    <tr>\n      <th>10</th>\n      <td>3475600,850848</td>\n      <td>0.000000e+00</td>\n      <td>1.0</td>\n    </tr>\n    <tr>\n      <th>11</th>\n      <td>3475600,1415724</td>\n      <td>9.217901e-09</td>\n      <td>1.0</td>\n    </tr>\n    <tr>\n      <th>12</th>\n      <td>850848,6309</td>\n      <td>6.581078e-08</td>\n      <td>1.0</td>\n    </tr>\n    <tr>\n      <th>13</th>\n      <td>850848,432903</td>\n      <td>6.521515e-08</td>\n      <td>1.0</td>\n    </tr>\n    <tr>\n      <th>14</th>\n      <td>850848,3475600</td>\n      <td>0.000000e+00</td>\n      <td>1.0</td>\n    </tr>\n    <tr>\n      <th>15</th>\n      <td>850848,1415724</td>\n      <td>9.649931e-09</td>\n      <td>1.0</td>\n    </tr>\n    <tr>\n      <th>16</th>\n      <td>1415724,6309</td>\n      <td>3.856738e-09</td>\n      <td>1.0</td>\n    </tr>\n    <tr>\n      <th>17</th>\n      <td>1415724,432903</td>\n      <td>1.737928e-07</td>\n      <td>1.0</td>\n    </tr>\n    <tr>\n      <th>18</th>\n      <td>1415724,3475600</td>\n      <td>9.217901e-09</td>\n      <td>1.0</td>\n    </tr>\n    <tr>\n      <th>19</th>\n      <td>1415724,850848</td>\n      <td>9.649931e-09</td>\n      <td>1.0</td>\n    </tr>\n  </tbody>\n</table>\n</div>"
     },
     "execution_count": 10,
     "metadata": {},
     "output_type": "execute_result"
    }
   ],
   "source": [
    "pd.DataFrame(l1norm_result, columns=['pair', 'similarity', 'distance'])"
   ],
   "metadata": {
    "collapsed": false,
    "pycharm": {
     "name": "#%%\n"
    }
   }
  },
  {
   "cell_type": "markdown",
   "source": [
    "# Cosine L2 Norm Similarity"
   ],
   "metadata": {
    "collapsed": false
   }
  },
  {
   "cell_type": "code",
   "execution_count": 11,
   "metadata": {
    "pycharm": {
     "name": "#%%\n"
    }
   },
   "outputs": [
    {
     "data": {
      "text/plain": "               pair  similarity  distance\n0       6309,432903    0.011778  0.988222\n1      6309,3475600    0.001170  0.998830\n2       6309,850848    0.001538  0.998462\n3      6309,1415724    0.000088  0.999912\n4       432903,6309    0.011778  0.988222\n5    432903,3475600    0.007215  0.992785\n6     432903,850848    0.001112  0.998888\n7    432903,1415724    0.002888  0.997112\n8      3475600,6309    0.001170  0.998830\n9    3475600,432903    0.007215  0.992785\n10   3475600,850848    0.000000  1.000000\n11  3475600,1415724    0.000136  0.999864\n12      850848,6309    0.001538  0.998462\n13    850848,432903    0.001112  0.998888\n14   850848,3475600    0.000000  1.000000\n15   850848,1415724    0.000139  0.999861\n16     1415724,6309    0.000088  0.999912\n17   1415724,432903    0.002888  0.997112\n18  1415724,3475600    0.000136  0.999864\n19   1415724,850848    0.000139  0.999861",
      "text/html": "<div>\n<style scoped>\n    .dataframe tbody tr th:only-of-type {\n        vertical-align: middle;\n    }\n\n    .dataframe tbody tr th {\n        vertical-align: top;\n    }\n\n    .dataframe thead th {\n        text-align: right;\n    }\n</style>\n<table border=\"1\" class=\"dataframe\">\n  <thead>\n    <tr style=\"text-align: right;\">\n      <th></th>\n      <th>pair</th>\n      <th>similarity</th>\n      <th>distance</th>\n    </tr>\n  </thead>\n  <tbody>\n    <tr>\n      <th>0</th>\n      <td>6309,432903</td>\n      <td>0.011778</td>\n      <td>0.988222</td>\n    </tr>\n    <tr>\n      <th>1</th>\n      <td>6309,3475600</td>\n      <td>0.001170</td>\n      <td>0.998830</td>\n    </tr>\n    <tr>\n      <th>2</th>\n      <td>6309,850848</td>\n      <td>0.001538</td>\n      <td>0.998462</td>\n    </tr>\n    <tr>\n      <th>3</th>\n      <td>6309,1415724</td>\n      <td>0.000088</td>\n      <td>0.999912</td>\n    </tr>\n    <tr>\n      <th>4</th>\n      <td>432903,6309</td>\n      <td>0.011778</td>\n      <td>0.988222</td>\n    </tr>\n    <tr>\n      <th>5</th>\n      <td>432903,3475600</td>\n      <td>0.007215</td>\n      <td>0.992785</td>\n    </tr>\n    <tr>\n      <th>6</th>\n      <td>432903,850848</td>\n      <td>0.001112</td>\n      <td>0.998888</td>\n    </tr>\n    <tr>\n      <th>7</th>\n      <td>432903,1415724</td>\n      <td>0.002888</td>\n      <td>0.997112</td>\n    </tr>\n    <tr>\n      <th>8</th>\n      <td>3475600,6309</td>\n      <td>0.001170</td>\n      <td>0.998830</td>\n    </tr>\n    <tr>\n      <th>9</th>\n      <td>3475600,432903</td>\n      <td>0.007215</td>\n      <td>0.992785</td>\n    </tr>\n    <tr>\n      <th>10</th>\n      <td>3475600,850848</td>\n      <td>0.000000</td>\n      <td>1.000000</td>\n    </tr>\n    <tr>\n      <th>11</th>\n      <td>3475600,1415724</td>\n      <td>0.000136</td>\n      <td>0.999864</td>\n    </tr>\n    <tr>\n      <th>12</th>\n      <td>850848,6309</td>\n      <td>0.001538</td>\n      <td>0.998462</td>\n    </tr>\n    <tr>\n      <th>13</th>\n      <td>850848,432903</td>\n      <td>0.001112</td>\n      <td>0.998888</td>\n    </tr>\n    <tr>\n      <th>14</th>\n      <td>850848,3475600</td>\n      <td>0.000000</td>\n      <td>1.000000</td>\n    </tr>\n    <tr>\n      <th>15</th>\n      <td>850848,1415724</td>\n      <td>0.000139</td>\n      <td>0.999861</td>\n    </tr>\n    <tr>\n      <th>16</th>\n      <td>1415724,6309</td>\n      <td>0.000088</td>\n      <td>0.999912</td>\n    </tr>\n    <tr>\n      <th>17</th>\n      <td>1415724,432903</td>\n      <td>0.002888</td>\n      <td>0.997112</td>\n    </tr>\n    <tr>\n      <th>18</th>\n      <td>1415724,3475600</td>\n      <td>0.000136</td>\n      <td>0.999864</td>\n    </tr>\n    <tr>\n      <th>19</th>\n      <td>1415724,850848</td>\n      <td>0.000139</td>\n      <td>0.999861</td>\n    </tr>\n  </tbody>\n</table>\n</div>"
     },
     "execution_count": 11,
     "metadata": {},
     "output_type": "execute_result"
    }
   ],
   "source": [
    "pd.DataFrame(l2norm_result, columns=['pair', 'similarity', 'distance'])"
   ]
  }
 ],
 "metadata": {
  "kernelspec": {
   "display_name": "Python 3 (ipykernel)",
   "language": "python",
   "name": "python3"
  },
  "language_info": {
   "codemirror_mode": {
    "name": "ipython",
    "version": 3
   },
   "file_extension": ".py",
   "mimetype": "text/x-python",
   "name": "python",
   "nbconvert_exporter": "python",
   "pygments_lexer": "ipython3",
   "version": "3.10.0"
  }
 },
 "nbformat": 4,
 "nbformat_minor": 1
}